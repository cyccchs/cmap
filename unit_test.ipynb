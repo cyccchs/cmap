{
 "cells": [
  {
   "cell_type": "code",
   "execution_count": null,
   "metadata": {},
   "outputs": [],
   "source": [
    "import cv2 as cv\n",
    "import numpy as np\n",
    "max_h = 0\n",
    "max_w = 0\n",
    "for i in range(1,1681):\n",
    "    name = './current_data/AllImages/1' + str(i).zfill(8) + '.bmp'\n",
    "    img = cv.imread(name)\n",
    "    if img is None:\n",
    "        pass\n",
    "    else:\n",
    "        img_h, img_w, ch = img.shape\n",
    "        print(name)\n",
    "        if img_h > max_h:\n",
    "            max_h = img_h\n",
    "        if img_w > max_w:\n",
    "            max_w = img_w\n",
    "print('max_h: %d, max_w: %d' % (max_h, max_w))"
   ]
  },
  {
   "cell_type": "code",
   "execution_count": 1,
   "metadata": {},
   "outputs": [],
   "source": [
    "import cv2 as cv\n",
    "import numpy as np\n",
    "import os\n",
    "new_h = 844\n",
    "new_w = 1238\n",
    "for i in range(1,1681):\n",
    "    path = './current_data/AllImages/1' + str(i).zfill(8) + '.bmp'\n",
    "    root, name = os.path.split(path)\n",
    "    img = cv.imread(path)\n",
    "    if img is None:\n",
    "        pass\n",
    "    else:\n",
    "        img_h, img_w, ch = img.shape\n",
    "        padding = np.full((new_h,new_w,3),(34,47,32), dtype=np.uint8)\n",
    "        padding[0:img_h, 0:img_w] = img\n",
    "        cv.imwrite('./pad/'+ name, padding)\n"
   ]
  },
  {
   "cell_type": "code",
   "execution_count": 45,
   "metadata": {},
   "outputs": [
    {
     "name": "stdout",
     "output_type": "stream",
     "text": [
      "torch.Size([4, 3, 2, 10])\n"
     ]
    }
   ],
   "source": [
    "import torch\n",
    "a = torch.arange(60)\n",
    "a = torch.reshape(a,(3,2,10))\n",
    "b = torch.stack([a,a,a,a])\n",
    "print(b.shape)"
   ]
  },
  {
   "cell_type": "code",
   "execution_count": 46,
   "metadata": {},
   "outputs": [
    {
     "name": "stdout",
     "output_type": "stream",
     "text": [
      "tensor([[[ 0,  1,  2,  3,  4,  5,  6,  7,  8,  9],\n",
      "         [10, 11, 12, 13, 14, 15, 16, 17, 18, 19]],\n",
      "\n",
      "        [[20, 21, 22, 23, 24, 25, 26, 27, 28, 29],\n",
      "         [30, 31, 32, 33, 34, 35, 36, 37, 38, 39]],\n",
      "\n",
      "        [[40, 41, 42, 43, 44, 45, 46, 47, 48, 49],\n",
      "         [50, 51, 52, 53, 54, 55, 56, 57, 58, 59]]])\n"
     ]
    }
   ],
   "source": [
    "print(a)"
   ]
  },
  {
   "cell_type": "code",
   "execution_count": 49,
   "metadata": {},
   "outputs": [
    {
     "name": "stdout",
     "output_type": "stream",
     "text": [
      "tensor([[96, 24, 97,  8, 85],\n",
      "        [ 6, 81, 76, 34, 22]])\n"
     ]
    }
   ],
   "source": [
    "m = torch.randint(1,100,size=(2,5))\n",
    "print(m)\n",
    "c = [torch.mul(a[i], torch.index_select(m,1,torch.tensor(i))) for i in range(3)]"
   ]
  },
  {
   "cell_type": "code",
   "execution_count": 11,
   "metadata": {},
   "outputs": [
    {
     "name": "stdout",
     "output_type": "stream",
     "text": [
      "tensor([[0, 1, 2, 3, 4],\n",
      "        [5, 6, 7, 8, 9]])\n"
     ]
    }
   ],
   "source": [
    "import torch\n",
    "a = torch.arange(10).reshape(2,5)\n",
    "c = torch.rand(2)\n",
    "print(a)"
   ]
  },
  {
   "cell_type": "code",
   "execution_count": 15,
   "metadata": {},
   "outputs": [
    {
     "name": "stdout",
     "output_type": "stream",
     "text": [
      "[tensor([0.1750, 0.4232]), tensor([0.7378, 0.1074]), tensor([0.1369, 0.4922]), tensor([0.8224, 0.6093]), tensor([0.9875, 0.0024])]\n"
     ]
    }
   ],
   "source": [
    "b = []\n",
    "for i in range(5):\n",
    "    b.append(torch.rand(2))\n",
    "print(b)"
   ]
  },
  {
   "cell_type": "code",
   "execution_count": 18,
   "metadata": {},
   "outputs": [
    {
     "name": "stdout",
     "output_type": "stream",
     "text": [
      "tensor([[0.1750, 0.7378, 0.1369, 0.8224, 0.9875],\n",
      "        [0.4232, 0.1074, 0.4922, 0.6093, 0.0024]])\n",
      "torch.Size([2, 5])\n"
     ]
    }
   ],
   "source": [
    "d = torch.stack(b).transpose(1,0)\n",
    "print(d)\n",
    "print(d.shape)"
   ]
  },
  {
   "cell_type": "code",
   "execution_count": 19,
   "metadata": {},
   "outputs": [
    {
     "name": "stdout",
     "output_type": "stream",
     "text": [
      "tensor([[0.1750, 0.7378, 0.1369, 0.8224, 0.9875],\n",
      "        [0.4232, 0.1074, 0.4922, 0.6093, 0.0024]])\n",
      "torch.Size([2, 5])\n"
     ]
    }
   ],
   "source": [
    "d = torch.stack(b, dim=1)\n",
    "print(d)\n",
    "print(d.shape)"
   ]
  },
  {
   "cell_type": "code",
   "execution_count": 26,
   "metadata": {},
   "outputs": [
    {
     "name": "stdout",
     "output_type": "stream",
     "text": [
      "tensor([[0, 1, 2],\n",
      "        [3, 4, 5]]) tensor([[0, 1, 2],\n",
      "        [3, 4, 5]])\n"
     ]
    }
   ],
   "source": [
    "a = torch.arange(6).reshape((2,3))\n",
    "\n",
    "b = torch.arange(6).reshape((2,3))\n",
    "print(a, b)"
   ]
  },
  {
   "cell_type": "code",
   "execution_count": 27,
   "metadata": {},
   "outputs": [
    {
     "data": {
      "text/plain": [
       "tensor([[ 0,  1,  4],\n",
       "        [ 9, 16, 25]])"
      ]
     },
     "execution_count": 27,
     "metadata": {},
     "output_type": "execute_result"
    }
   ],
   "source": [
    "a*b"
   ]
  },
  {
   "cell_type": "code",
   "execution_count": 3,
   "metadata": {},
   "outputs": [],
   "source": [
    "import torch.nn as nn\n",
    "import torch\n",
    "import networks\n",
    "\n",
    "class a(nn.Module):\n",
    "    def __init__(self):\n",
    "        super().__init__()\n",
    "        self.lstm = networks.CoreNetwork(2,256)\n",
    "        self.fc = nn.Linear(256,256)\n",
    "        self.last = nn.Linear(256,1)\n",
    "        self.init_h = torch.zeros(2, 256, dtype=torch.float32, requires_grad=True)\n",
    "    def forward(self,h):\n",
    "\n",
    "        for i in range(3):\n",
    "            z = self.fc(h)\n",
    "            h = self.lstm(z)\n",
    "        out = self.last(h)\n",
    "        return out\n",
    "        "
   ]
  },
  {
   "cell_type": "code",
   "execution_count": 7,
   "metadata": {},
   "outputs": [
    {
     "name": "stdout",
     "output_type": "stream",
     "text": [
      "tensor([0.0170, 0.0170], grad_fn=<MaxBackward0>)\n",
      "tensor([0.0191, 0.0191], grad_fn=<MaxBackward0>)\n",
      "tensor([0.0194, 0.0194], grad_fn=<MaxBackward0>)\n",
      "tensor([0.0194, 0.0194], grad_fn=<MaxBackward0>)\n",
      "tensor([0.0193, 0.0193], grad_fn=<MaxBackward0>)\n",
      "tensor([0.0193, 0.0193], grad_fn=<MaxBackward0>)\n",
      "tensor([0.0193, 0.0193], grad_fn=<MaxBackward0>)\n",
      "tensor([0.0193, 0.0193], grad_fn=<MaxBackward0>)\n",
      "tensor([0.0193, 0.0193], grad_fn=<MaxBackward0>)\n",
      "tensor([0.0193, 0.0193], grad_fn=<MaxBackward0>)\n"
     ]
    }
   ],
   "source": [
    "model = a()\n",
    "opt = torch.optim.Adam(model.parameters(), lr=0.0001)\n",
    "h = model.init_h\n",
    "for i in range(10):\n",
    "    out = model(h)\n",
    "    out = torch.max(out, 1)[0]\n",
    "    print(out)\n",
    "\n",
    "loss = out[0]\n",
    "loss.backward()\n",
    "opt.step()\n"
   ]
  },
  {
   "cell_type": "code",
   "execution_count": null,
   "metadata": {},
   "outputs": [],
   "source": [
    "import os\n",
    "path = './HRSC2016/Train/AllImages/image_names.txt'\n",
    "with open(path) as f:\n",
    "    image_name_list = [i.strip() for i in f.readlines()]\n",
    "    \n",
    "counter = {}\n",
    "keys = range(100000000, 100000099)\n",
    "for key in keys:\n",
    "    counter[str(key)] = 0\n",
    "for image_name in image_name_list:\n",
    "    root, name = os.path.split(image_name)\n",
    "    xmlName = os.path.join(root.replace('AllImages', 'Annotations'), name[:-4]+'.xml')\n",
    "\n",
    "    with open(xmlName, 'r', encoding='utf-8-sig') as f:\n",
    "        content = f.read()\n",
    "        #if '<HRSC_Object>' not in content:\n",
    "        #    break\n",
    "        objects = content.split('<HRSC_Object>')\n",
    "        #print(objects)\n",
    "        info = objects.pop(0)\n",
    "        print(xmlName)\n",
    "        cls_id = 0\n",
    "        for obj in objects:\n",
    "            #print(type(obj))\n",
    "            cls_id = obj[obj.find('<Class_ID>')+10 : obj.find('</Class_ID>')]\n",
    "            #if cls_id == '':\n",
    "            print(cls_id)\n",
    "            counter[cls_id] = counter[cls_id] + 1\n",
    "print('done')\n"
   ]
  },
  {
   "cell_type": "code",
   "execution_count": 3,
   "metadata": {},
   "outputs": [
    {
     "name": "stdout",
     "output_type": "stream",
     "text": [
      "100000001 :  75\n",
      "100000002 :  1\n",
      "100000003 :  14\n",
      "100000004 :  1\n",
      "100000005 :  40\n",
      "100000006 :  9\n",
      "100000007 :  76\n",
      "100000008 :  23\n",
      "100000009 :  37\n",
      "100000010 :  8\n",
      "100000011 :  43\n",
      "100000013 :  8\n",
      "100000015 :  13\n",
      "100000016 :  38\n",
      "100000018 :  30\n",
      "100000019 :  20\n",
      "100000020 :  14\n",
      "100000022 :  9\n",
      "100000024 :  1\n",
      "100000025 :  95\n",
      "100000026 :  5\n",
      "100000027 :  11\n",
      "100000028 :  5\n",
      "100000029 :  4\n",
      "100000030 :  24\n",
      "100000032 :  13\n"
     ]
    }
   ],
   "source": [
    "\n",
    "for key in keys:\n",
    "    if counter[str(key)] != 0:\n",
    "        print(key,': ',counter[str(key)])\n"
   ]
  },
  {
   "cell_type": "code",
   "execution_count": 3,
   "metadata": {},
   "outputs": [
    {
     "name": "stdout",
     "output_type": "stream",
     "text": [
      "torch.Size([2, 3, 4])\n",
      "tensor([[[0.2772, 0.3102, 0.5874, 0.7824],\n",
      "         [0.3143, 0.0162, 0.9305, 0.4428],\n",
      "         [0.7384, 0.1179, 0.3360, 0.1632]],\n",
      "\n",
      "        [[0.4647, 0.8081, 0.2322, 0.7710],\n",
      "         [0.4329, 0.6601, 0.5893, 0.5719],\n",
      "         [0.9230, 0.1206, 0.4911, 0.5181]]])\n",
      "torch.Size([3, 4])\n",
      "tensor([[0.3709, 0.5591, 0.4098, 0.7767],\n",
      "        [0.3736, 0.3382, 0.7599, 0.5073],\n",
      "        [0.8307, 0.1193, 0.4135, 0.3406]])\n"
     ]
    }
   ],
   "source": [
    "import torch\n",
    "a = torch.rand(2,3,4)\n",
    "print(a.shape)\n",
    "print(a)\n",
    "a = torch.mean(a,0)\n",
    "print(a.shape)\n",
    "print(a)"
   ]
  },
  {
   "cell_type": "code",
   "execution_count": null,
   "metadata": {},
   "outputs": [],
   "source": []
  }
 ],
 "metadata": {
  "kernelspec": {
   "display_name": "Python 3 (ipykernel)",
   "language": "python",
   "name": "python3"
  },
  "language_info": {
   "codemirror_mode": {
    "name": "ipython",
    "version": 3
   },
   "file_extension": ".py",
   "mimetype": "text/x-python",
   "name": "python",
   "nbconvert_exporter": "python",
   "pygments_lexer": "ipython3",
   "version": "3.9.0"
  }
 },
 "nbformat": 4,
 "nbformat_minor": 4
}
